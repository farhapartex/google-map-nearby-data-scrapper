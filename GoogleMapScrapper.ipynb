{
  "nbformat": 4,
  "nbformat_minor": 0,
  "metadata": {
    "colab": {
      "name": "GoogleMapScrapper.ipynb",
      "provenance": []
    },
    "kernelspec": {
      "name": "python3",
      "display_name": "Python 3"
    }
  },
  "cells": [
    {
      "cell_type": "code",
      "metadata": {
        "id": "0hdS0F2ZBf4k",
        "colab_type": "code",
        "colab": {}
      },
      "source": [
        "import pandas as pd, numpy as np\n",
        "import requests\n",
        "import json\n",
        "import time\n",
        "from google.colab import files"
      ],
      "execution_count": 0,
      "outputs": []
    },
    {
      "cell_type": "code",
      "metadata": {
        "id": "AemiDSqSARRD",
        "colab_type": "code",
        "colab": {}
      },
      "source": [
        "coordinates = ['24.9328,91.8739']\n",
        "search_types = ['restaurants', 'hospitals']\n",
        "radius = '3500'\n",
        "# keyword = \"restaurants\"\n",
        "api_key = 'USE_YOUR_KEY_HERE'\n",
        "\n",
        "# search_type & keyword depends on user. it may be hospitals, gym or anything else"
      ],
      "execution_count": 0,
      "outputs": []
    },
    {
      "cell_type": "code",
      "metadata": {
        "id": "XJ7sVomIBjAr",
        "colab_type": "code",
        "colab": {}
      },
      "source": [
        "google_map_url = 'https://maps.googleapis.com/maps/api/place/nearbysearch/json?location='\n",
        "final_data, labels = [], []"
      ],
      "execution_count": 0,
      "outputs": []
    },
    {
      "cell_type": "code",
      "metadata": {
        "id": "6DapPeoJVUDd",
        "colab_type": "code",
        "colab": {
          "base_uri": "https://localhost:8080/",
          "height": 377
        },
        "outputId": "3beb9b53-88ad-4cb1-a1c0-e95cbac70d75"
      },
      "source": [
        "final_data = []\n",
        "for stype in search_types:\n",
        "  url = google_map_url + coordinates[0] + \"&radius=\" + radius + \"&type=\" + stype +\"&keyword=\"+ stype +\"&key=\" + api_key\n",
        "  respon = requests.get(url)\n",
        "  jj = json.loads(respon.text)\n",
        "  for result in jj[\"results\"]:\n",
        "    print(result)\n",
        "    name = result['name']\n",
        "    place_id = result ['place_id']\n",
        "    lat = result['geometry']['location']['lat']\n",
        "    lng = result['geometry']['location']['lng']\n",
        "    # rating = result['rating']\n",
        "    types = result['types']\n",
        "    vicinity = result['vicinity']\n",
        "    data = [name, place_id, lat, lng, \"\", types, vicinity]\n",
        "    final_data.append(data)"
      ],
      "execution_count": 4,
      "outputs": [
        {
          "output_type": "stream",
          "text": [
            "{'business_status': 'OPERATIONAL', 'geometry': {'location': {'lat': 24.902049, 'lng': 91.86888139999999}, 'viewport': {'northeast': {'lat': 24.90341707989272, 'lng': 91.87023197989272}, 'southwest': {'lat': 24.90071742010728, 'lng': 91.86753232010727}}}, 'icon': 'https://maps.gstatic.com/mapfiles/place_api/icons/restaurant-71.png', 'id': '222b7383a3000b4fc44360083e04e3e057a1f6e6', 'name': 'Spice village', 'opening_hours': {'open_now': True}, 'photos': [{'height': 1784, 'html_attributions': ['<a href=\"https://maps.google.com/maps/contrib/111513439210057520907\">showjol chowdhury</a>'], 'photo_reference': 'CmRaAAAAjYe6Q5rAHBuWC8ZbCq_IuAZpPedrBkl51G3ptBw99--oobebz_9a6PruLA2IAhigXkL5pfVLBlfzWqCzXM6RLc3ax-yNfXm4TcXt5GHQV127wQm7RxyYop2FcBs_-1QgEhBy5jRAbeEkTgQdW9SJzrlEGhSz1ir5NIs86rR8IoqYxQruOXVuHg', 'width': 2250}], 'place_id': 'ChIJ81LwYmVVUDcR2ODUhMwLNtI', 'plus_code': {'compound_code': 'WV29+RH Sylhet, Bangladesh', 'global_code': '7MPHWV29+RH'}, 'price_level': 1, 'rating': 4.7, 'reference': 'ChIJ81LwYmVVUDcR2ODUhMwLNtI', 'scope': 'GOOGLE', 'types': ['restaurant', 'food', 'point_of_interest', 'establishment'], 'user_ratings_total': 104, 'vicinity': 'Rashid Emporium, Dargah Gate, Sylhet'}\n",
            "{'business_status': 'OPERATIONAL', 'geometry': {'location': {'lat': 24.9022915, 'lng': 91.8629058}, 'viewport': {'northeast': {'lat': 24.90365267989272, 'lng': 91.86422047989272}, 'southwest': {'lat': 24.90095302010728, 'lng': 91.86152082010727}}}, 'icon': 'https://maps.gstatic.com/mapfiles/place_api/icons/restaurant-71.png', 'id': '42ba0c1e3b88fb43106b031c0393f56ee74b0448', 'name': 'Farmis Garden hotel & Restaurant', 'opening_hours': {'open_now': True}, 'photos': [{'height': 600, 'html_attributions': ['<a href=\"https://maps.google.com/maps/contrib/109554032556491191820\">PC Garden Sylhet</a>'], 'photo_reference': 'CmRaAAAAI7ehTca0c_aYWAlT5aHNG_MALsPBr7E-J6xn2AggDXfvQsodBkrSIYiWE0SzxmlGwSD30EKZTNNgWDV-Q4OyzogYP_vmEAwDMEaOHhTSdYa6VdgV2nNzR3tpZW8psnc6EhAFKVhimE4E8V7FeRHdZmlEGhRs2kAUTcSlu07htOCmrX5v37pKpw', 'width': 600}], 'place_id': 'ChIJJVF1klBVUDcRWnEgQ94xn_s', 'plus_code': {'compound_code': 'WV27+W5 Sylhet, Bangladesh', 'global_code': '7MPHWV27+W5'}, 'rating': 3.9, 'reference': 'ChIJJVF1klBVUDcRWnEgQ94xn_s', 'scope': 'GOOGLE', 'types': ['restaurant', 'food', 'point_of_interest', 'establishment'], 'user_ratings_total': 28, 'vicinity': 'Mirer moydan, Sylhet'}\n",
            "{'business_status': 'OPERATIONAL', 'geometry': {'location': {'lat': 24.9013994, 'lng': 91.8697679}, 'viewport': {'northeast': {'lat': 24.90273812989272, 'lng': 91.87111517989273}, 'southwest': {'lat': 24.90003847010728, 'lng': 91.86841552010728}}}, 'icon': 'https://maps.gstatic.com/mapfiles/place_api/icons/restaurant-71.png', 'id': '0d7c0a88ff0fca5023808ad13c8e87cf338fb8c7', 'name': 'Zafran restaurant, Sylhet.', 'opening_hours': {'open_now': True}, 'photos': [{'height': 1960, 'html_attributions': ['<a href=\"https://maps.google.com/maps/contrib/102288841167902660299\">Pijush Kuri</a>'], 'photo_reference': 'CmRaAAAAwz6HWEVAcv0u4KnJRNnbi4uTNHowsspWjoNPkM4qq02o2wDaqP06bvdyZsXmRqEKtVXHp1qILZD4YOnst5zx7QkIPl7FRksMKcrR3VVZMTT4QTHgSudfAzhig-ChLLuJEhCoEcqjzP5IWzhWVMkOCd3DGhSpcom0mo3UoLm4ggK94EVZgeOjBg', 'width': 4032}], 'place_id': 'ChIJfyAnxQVVUDcRYfEunaTpm1E', 'plus_code': {'compound_code': 'WV29+HW Sylhet, Bangladesh', 'global_code': '7MPHWV29+HW'}, 'price_level': 1, 'rating': 4.1, 'reference': 'ChIJfyAnxQVVUDcRYfEunaTpm1E', 'scope': 'GOOGLE', 'types': ['restaurant', 'food', 'point_of_interest', 'establishment'], 'user_ratings_total': 147, 'vicinity': 'lovely complex. ground floor, 61 Dargah Gate, Sylhet'}\n",
            "{'business_status': 'OPERATIONAL', 'geometry': {'location': {'lat': 24.9054351, 'lng': 91.86705979999999}, 'viewport': {'northeast': {'lat': 24.90679032989272, 'lng': 91.86839212989273}, 'southwest': {'lat': 24.90409067010728, 'lng': 91.86569247010728}}}, 'icon': 'https://maps.gstatic.com/mapfiles/place_api/icons/restaurant-71.png', 'id': '24b00a1a9032effeb2c23b7ceedfbd4e72db83c1', 'name': 'Sizzler', 'opening_hours': {'open_now': True}, 'photos': [{'height': 3024, 'html_attributions': ['<a href=\"https://maps.google.com/maps/contrib/103636335683262349673\">Muhinur Islam Adnan</a>'], 'photo_reference': 'CmRaAAAARjIM4B_YMoqhP3KlRgAQKIR31kV-F3Lxxfz1XBzB-QSDtEuaHIJyg5uCcJobOkJWpV5ANL0r2T4sTyGkP5onKBwWvpXONgfpiFinNa8rnjzhnbIw8ePXhemnFQyPny78EhAiX1-eJ0uV6ItOK8oi8rMJGhSPWY2B1yQTPLYDmBDeJDoO8_qV5g', 'width': 4032}], 'place_id': 'ChIJUfp-cyZVUDcRghBo2GPLosk', 'plus_code': {'compound_code': 'WV48+5R Sylhet, Bangladesh', 'global_code': '7MPHWV48+5R'}, 'rating': 3.8, 'reference': 'ChIJUfp-cyZVUDcRghBo2GPLosk', 'scope': 'GOOGLE', 'types': ['restaurant', 'food', 'point_of_interest', 'establishment'], 'user_ratings_total': 90, 'vicinity': 'Darshan Deuri, Amborkhana'}\n",
            "{'business_status': 'OPERATIONAL', 'geometry': {'location': {'lat': 24.9097217, 'lng': 91.8485996}, 'viewport': {'northeast': {'lat': 24.91106932989272, 'lng': 91.84994367989272}, 'southwest': {'lat': 24.90836967010728, 'lng': 91.84724402010728}}}, 'icon': 'https://maps.gstatic.com/mapfiles/place_api/icons/restaurant-71.png', 'id': '0701482e29974195453cd78f5dba9bc707b4539c', 'name': 'Polashi Restaurant & VIP Lounge', 'opening_hours': {'open_now': True}, 'photos': [{'height': 2448, 'html_attributions': ['<a href=\"https://maps.google.com/maps/contrib/106691792827053304890\">Javed Kaiser</a>'], 'photo_reference': 'CmRaAAAALCf9reP0ktmtkVokcIBg40l-kE78gPrw1IBCTkS2X8_BKhNZU4UIFPlsOg3ScuGTE5WlqksD_479t4W-Pej2wDwzOAwfsrLn7B3FRe6B1uVxELKAxJQQt-Fo03ExBujKEhAb4mzO1wjMUImSo_XOj32zGhRgK0G0vnfmpV9GuS-Azm2d1wgF8Q', 'width': 3264}], 'place_id': 'ChIJx61eP0hVUDcRoO08i4Wuq0E', 'plus_code': {'compound_code': 'WR5X+VC Sylhet, Bangladesh', 'global_code': '7MPHWR5X+VC'}, 'rating': 4.2, 'reference': 'ChIJx61eP0hVUDcRoO08i4Wuq0E', 'scope': 'GOOGLE', 'types': ['restaurant', 'food', 'point_of_interest', 'establishment'], 'user_ratings_total': 5, 'vicinity': 'Manik Trading Center, N Bagbari Rd, Sylhet'}\n",
            "{'business_status': 'OPERATIONAL', 'geometry': {'location': {'lat': 24.914016, 'lng': 91.8663229}, 'viewport': {'northeast': {'lat': 24.91538317989272, 'lng': 91.86767457989272}, 'southwest': {'lat': 24.91268352010728, 'lng': 91.86497492010727}}}, 'icon': 'https://maps.gstatic.com/mapfiles/place_api/icons/restaurant-71.png', 'id': '7269baba129867d00a26de181513987e7148d4c3', 'name': 'SAJON restaurant', 'place_id': 'ChIJU9gsZ05VUDcRFbOC_DLGGA8', 'plus_code': {'compound_code': 'WV78+JG Sylhet, Bangladesh', 'global_code': '7MPHWV78+JG'}, 'rating': 0, 'reference': 'ChIJU9gsZ05VUDcRFbOC_DLGGA8', 'scope': 'GOOGLE', 'types': ['restaurant', 'food', 'point_of_interest', 'establishment'], 'user_ratings_total': 0, 'vicinity': '112,Oikkotan, western pirmoholla'}\n",
            "{'business_status': 'OPERATIONAL', 'geometry': {'location': {'lat': 24.9054416, 'lng': 91.8677321}, 'viewport': {'northeast': {'lat': 24.90680932989272, 'lng': 91.86908672989273}, 'southwest': {'lat': 24.90410967010728, 'lng': 91.86638707010728}}}, 'icon': 'https://maps.gstatic.com/mapfiles/place_api/icons/restaurant-71.png', 'id': '23d859dadf0090e32ad61a957fcfa6f6816c80c4', 'name': 'Sip & Bite', 'opening_hours': {'open_now': True}, 'photos': [{'height': 3024, 'html_attributions': ['<a href=\"https://maps.google.com/maps/contrib/108432036183358913811\">Rukhsana Ferdous</a>'], 'photo_reference': 'CmRaAAAAhwbZuKE3lehADQOod7YZkIRlNbTe1qE8AQ1Zr5mx6egbMaL_Spn-eV50pFIYiYRZHAxEaFJQMgjUtgrDnwrOysuAD7oJl8kyw1BxJtE0fVHIVP6yrsuJSmytjfDEE5UwEhCk6UiWhyBk5dDjq2T1wq8GGhRTQKrOV1n1_tHCVQE2NW4hd4ha0w', 'width': 4032}], 'place_id': 'ChIJ_SCCOiZVUDcRO4MNeE1cBtg', 'plus_code': {'compound_code': 'WV49+53 Sylhet, Bangladesh', 'global_code': '7MPHWV49+53'}, 'rating': 4.1, 'reference': 'ChIJ_SCCOiZVUDcRO4MNeE1cBtg', 'scope': 'GOOGLE', 'types': ['restaurant', 'food', 'point_of_interest', 'establishment'], 'user_ratings_total': 124, 'vicinity': 'Sunamgonj Road, Dargah Mahalla, Sylhet'}\n",
            "{'business_status': 'OPERATIONAL', 'geometry': {'location': {'lat': 24.9091667, 'lng': 91.85666669999999}, 'viewport': {'northeast': {'lat': 24.91053137989272, 'lng': 91.85803852989272}, 'southwest': {'lat': 24.90783172010728, 'lng': 91.85533887010729}}}, 'icon': 'https://maps.gstatic.com/mapfiles/place_api/icons/restaurant-71.png', 'id': '72d9ee3ff01f206099a96328024f7f074b228bfb', 'name': 'Chick Chicken', 'opening_hours': {'open_now': True}, 'photos': [{'height': 2448, 'html_attributions': ['<a href=\"https://maps.google.com/maps/contrib/116280084072764044564\">Sheikh Rafi Travel Sylhet</a>'], 'photo_reference': 'CmRaAAAAGJhMbzsKB_MPnvdFzUAEN9DSD2n0Mz-8wmycihJxvMv5bJ2evTiG2vuf5Q31UoRHgBbiUchuz3rMv5_Ov3Zatx4h_TYFZ_k3xasK27-lgg37y2DIKn9dxpyOtzA2wDVSEhBjbwmS6D82YiTlTzBXtSFZGhTE5yLTtUqWKjfSUNHGwXRwiHGPOA', 'width': 3264}], 'place_id': 'ChIJjzkP5ztVUDcRE3OtcSmddW0', 'plus_code': {'compound_code': 'WV54+MM Sylhet, Bangladesh', 'global_code': '7MPHWV54+MM'}, 'price_level': 2, 'rating': 3.7, 'reference': 'ChIJjzkP5ztVUDcRE3OtcSmddW0', 'scope': 'GOOGLE', 'types': ['restaurant', 'food', 'point_of_interest', 'establishment'], 'user_ratings_total': 318, 'vicinity': 'Beside Anandaniketan School, West, Sylhet - Sunamganj Hwy, Sylhet'}\n",
            "{'business_status': 'OPERATIONAL', 'geometry': {'location': {'lat': 24.9161316, 'lng': 91.8704411}, 'viewport': {'northeast': {'lat': 24.91749737989272, 'lng': 91.87179272989272}, 'southwest': {'lat': 24.91479772010728, 'lng': 91.86909307010727}}}, 'icon': 'https://maps.gstatic.com/mapfiles/place_api/icons/restaurant-71.png', 'id': '4bb9d0d9b2a47f5096a6146c40e46e9dafa6a6f3', 'name': 'Rifat restaurant', 'photos': [{'height': 3096, 'html_attributions': ['<a href=\"https://maps.google.com/maps/contrib/102774090673477370966\">Rifat Mahmud</a>'], 'photo_reference': 'CmRaAAAAa92wjS3xJrMil1DdvhsUTvifoUKlyYTIXBNunAA5fUIevQ1Lgsu_mvtjYfyBKpBTP1Hwf5jp0SjmyRlSpDoQ50a0SoE8VVcf3CYoEuJYZir5BunxfjtPz9ACcuO0O8LxEhAnxjO-j8zCv5faPBrwHI7NGhTL6XZSEBznICXIaftZOg7DYkjBPg', 'width': 4128}], 'place_id': 'ChIJsRzM2tJVUDcRGFgEbtExuv4', 'plus_code': {'compound_code': 'WV8C+F5 Sylhet, Bangladesh', 'global_code': '7MPHWV8C+F5'}, 'rating': 0, 'reference': 'ChIJsRzM2tJVUDcRGFgEbtExuv4', 'scope': 'GOOGLE', 'types': ['restaurant', 'food', 'point_of_interest', 'establishment'], 'user_ratings_total': 0, 'vicinity': 'Badambagicha Rd No. 4, Sylhet'}\n",
            "{'business_status': 'OPERATIONAL', 'geometry': {'location': {'lat': 24.901389, 'lng': 91.85358029999999}, 'viewport': {'northeast': {'lat': 24.90258717989272, 'lng': 91.85492842989271}, 'southwest': {'lat': 24.89988752010728, 'lng': 91.85222877010726}}}, 'icon': 'https://maps.gstatic.com/mapfiles/place_api/icons/restaurant-71.png', 'id': '276812f416a7b5ae85f2c5774aa1c547c100c9f2', 'name': 'Mujdalifa Restaurant', 'place_id': 'ChIJaemUSSBVUDcRLJs_unmsY5I', 'plus_code': {'compound_code': 'WV23+HC Sylhet, Bangladesh', 'global_code': '7MPHWV23+HC'}, 'rating': 4, 'reference': 'ChIJaemUSSBVUDcRLJs_unmsY5I', 'scope': 'GOOGLE', 'types': ['restaurant', 'food', 'point_of_interest', 'establishment'], 'user_ratings_total': 1, 'vicinity': 'Ragib rabiya, Medical College Road, Sylhet'}\n",
            "{'business_status': 'OPERATIONAL', 'geometry': {'location': {'lat': 24.9229493, 'lng': 91.8429324}, 'viewport': {'northeast': {'lat': 24.92445707989272, 'lng': 91.84432322989271}, 'southwest': {'lat': 24.92175742010728, 'lng': 91.84162357010727}}}, 'icon': 'https://maps.gstatic.com/mapfiles/place_api/icons/restaurant-71.png', 'id': '9471e471ad892c24df49c82bfb882b2ded91b2c2', 'name': 'Pakistani restaurant', 'place_id': 'ChIJ1wgS_rpVUDcRLcxyTNxE4X0', 'plus_code': {'compound_code': 'WRFV+55 Sylhet, Bangladesh', 'global_code': '7MPHWRFV+55'}, 'rating': 0, 'reference': 'ChIJ1wgS_rpVUDcRLcxyTNxE4X0', 'scope': 'GOOGLE', 'types': ['restaurant', 'food', 'point_of_interest', 'establishment'], 'user_ratings_total': 0, 'vicinity': 'Jalalia R/A airport raod, Sylhet'}\n",
            "{'business_status': 'OPERATIONAL', 'geometry': {'location': {'lat': 24.9099587, 'lng': 91.8975703}, 'viewport': {'northeast': {'lat': 24.91134832989272, 'lng': 91.89884057989272}, 'southwest': {'lat': 24.90864867010728, 'lng': 91.89614092010729}}}, 'icon': 'https://maps.gstatic.com/mapfiles/place_api/icons/restaurant-71.png', 'id': 'ec921e01edf3e00211138e7588175127a2074d83', 'name': 'Jonoprio Restaurant', 'photos': [{'height': 1080, 'html_attributions': ['<a href=\"https://maps.google.com/maps/contrib/105976270553938089689\">A Google User</a>'], 'photo_reference': 'CmRaAAAACRYJRgd3Bq0TEgUlXWg0M9xHtTETSfTnlVSmE1zkjJgYJNtiBSj3MPGezB2nC3nqnP9pYOk_Mex_YIeC2ecg3glE0P5BVyoMSUHcBz1x3bLgVCQzDF7SOYWykFJyV2nGEhDaWbTihlh7d5XrcjoRrQJIGhTOuB37UvVb-cfwPGbDQc8ZjvKASQ', 'width': 1920}], 'place_id': 'ChIJ-0t3RltVUDcRq55ICaU8t5A', 'plus_code': {'compound_code': 'WV5X+X2 Sylhet, Bangladesh', 'global_code': '7MPHWV5X+X2'}, 'rating': 0, 'reference': 'ChIJ-0t3RltVUDcRq55ICaU8t5A', 'scope': 'GOOGLE', 'types': ['restaurant', 'food', 'point_of_interest', 'establishment'], 'user_ratings_total': 0, 'vicinity': 'Sylhet'}\n",
            "{'business_status': 'OPERATIONAL', 'geometry': {'location': {'lat': 24.912188, 'lng': 91.851226}, 'viewport': {'northeast': {'lat': 24.91351887989272, 'lng': 91.85271452989274}, 'southwest': {'lat': 24.91081922010728, 'lng': 91.85001487010729}}}, 'icon': 'https://maps.gstatic.com/mapfiles/place_api/icons/restaurant-71.png', 'id': '15443796aca2ce84f51eb452443cd158ccb69176', 'name': 'Shukria Restaurant', 'photos': [{'height': 1080, 'html_attributions': ['<a href=\"https://maps.google.com/maps/contrib/110118886604097009471\">A Google User</a>'], 'photo_reference': 'CmRaAAAAfkZtC5FVuCJhJTcJh1Ps4rhey32HTaLiCNuDHQ-_9ggMnpqoK0HU5yb3x6FWfga0WcTz4lhLcBANG4TBihDj1_yT8Xicbyl6PV18fSBS95NkqiXikfecFZkt8Xk6wIxPEhA-RU-ZZWjzt4CkW_9s-9h0GhTa5Flke3xh7uDBPV136cKUBXJIHw', 'width': 1920}], 'place_id': 'ChIJEagcQwxVUDcR8W2h6gVrjhU', 'plus_code': {'compound_code': 'WV62+VF Sylhet, Bangladesh', 'global_code': '7MPHWV62+VF'}, 'rating': 0, 'reference': 'ChIJEagcQwxVUDcR8W2h6gVrjhU', 'scope': 'GOOGLE', 'types': ['restaurant', 'food', 'point_of_interest', 'establishment'], 'user_ratings_total': 0, 'vicinity': 'Gias Miah Road, Sylhet'}\n",
            "{'business_status': 'OPERATIONAL', 'geometry': {'location': {'lat': 24.9106895, 'lng': 91.8481795}, 'viewport': {'northeast': {'lat': 24.91187137989272, 'lng': 91.84950582989272}, 'southwest': {'lat': 24.90917172010728, 'lng': 91.84680617010727}}}, 'icon': 'https://maps.gstatic.com/mapfiles/place_api/icons/restaurant-71.png', 'id': 'f7b66f81222c937fc1e31c99ef7aa9793f42ee74', 'name': 'Chilli Restaurant', 'photos': [{'height': 1280, 'html_attributions': ['<a href=\"https://maps.google.com/maps/contrib/107234460594290028602\">Dj Suyab</a>'], 'photo_reference': 'CmRaAAAAfIWBcaXFdAzsbuL6QjYFQTFQ_eP5MPbEH9v17a_QWQwO3osh3oz8ThYVY9S1CjBBVyxIp_bNNH5qOLL3J-jbpKbT6MJIsP1fE0slOrd8Sn4Oyw8QGXhU9bwJWuSo6THMEhBkRJiJDB2bNNTepMpy-M4aGhQM8sTEdgoIYslnVOPhDF_95Jp0iw', 'width': 960}], 'place_id': 'ChIJLcMHCf1VUDcR_GkH3sSfnNw', 'plus_code': {'compound_code': 'WR6X+77 Sylhet, Bangladesh', 'global_code': '7MPHWR6X+77'}, 'rating': 0, 'reference': 'ChIJLcMHCf1VUDcR_GkH3sSfnNw', 'scope': 'GOOGLE', 'types': ['restaurant', 'food', 'point_of_interest', 'establishment'], 'user_ratings_total': 0, 'vicinity': 'Sylhet - Sunamganj Hwy, Sylhet'}\n",
            "{'business_status': 'OPERATIONAL', 'geometry': {'location': {'lat': 24.9061921, 'lng': 91.8819388}, 'viewport': {'northeast': {'lat': 24.90757787989272, 'lng': 91.88328112989271}, 'southwest': {'lat': 24.90487822010728, 'lng': 91.88058147010727}}}, 'icon': 'https://maps.gstatic.com/mapfiles/place_api/icons/restaurant-71.png', 'id': 'a41b32800e342ccf23214e8ddf5ddce28d260d67', 'name': 'Bombay Biriyani Restaurant', 'opening_hours': {'open_now': True}, 'photos': [{'height': 3000, 'html_attributions': ['<a href=\"https://maps.google.com/maps/contrib/113245515166462081319\">MOYNUL AHMED</a>'], 'photo_reference': 'CmRaAAAAVlLH2yn7xOhpPEPMjtM81PVk5Ho5U1R2a1niqJ52sdppMOWaJUcwI_boOGST1DTV-sNwx986Wk7os-OKEqTDJhAYM92S2oXMKJBtZH21MzYXCDygbWXkAolL9RbEHUwJEhAQMZ-EdJKUnfnrPR1MZ1TnGhSFmmX0IlSu0ZEyIOcX99EcT5KvOg', 'width': 4000}], 'place_id': 'ChIJ-So6M1pVUDcRibNqWBW7Lk4', 'plus_code': {'compound_code': 'WV4J+FQ Sylhet, Bangladesh', 'global_code': '7MPHWV4J+FQ'}, 'rating': 5, 'reference': 'ChIJ-So6M1pVUDcRibNqWBW7Lk4', 'scope': 'GOOGLE', 'types': ['restaurant', 'food', 'point_of_interest', 'establishment'], 'user_ratings_total': 1, 'vicinity': 'Sylhet'}\n",
            "{'business_status': 'OPERATIONAL', 'geometry': {'location': {'lat': 24.9053804, 'lng': 91.8700542}, 'viewport': {'northeast': {'lat': 24.90673932989272, 'lng': 91.87136942989274}, 'southwest': {'lat': 24.90403967010727, 'lng': 91.86866977010729}}}, 'icon': 'https://maps.gstatic.com/mapfiles/place_api/icons/restaurant-71.png', 'id': 'ca0d9d6deb7cbaf9b98f7cee481a1f6629cd901d', 'name': 'Nahar Restaurant', 'opening_hours': {'open_now': True}, 'place_id': 'ChIJXaPl2KZVUDcRUcXDwtLLFLc', 'plus_code': {'compound_code': 'WV4C+52 Sylhet, Bangladesh', 'global_code': '7MPHWV4C+52'}, 'rating': 5, 'reference': 'ChIJXaPl2KZVUDcRUcXDwtLLFLc', 'scope': 'GOOGLE', 'types': ['restaurant', 'food', 'point_of_interest', 'establishment'], 'user_ratings_total': 1, 'vicinity': 'Airport Rd, Sylhet'}\n",
            "{'business_status': 'OPERATIONAL', 'geometry': {'location': {'lat': 24.906171, 'lng': 91.86235549999999}, 'viewport': {'northeast': {'lat': 24.90753277989273, 'lng': 91.86366747989273}, 'southwest': {'lat': 24.90483312010728, 'lng': 91.86096782010728}}}, 'icon': 'https://maps.gstatic.com/mapfiles/place_api/icons/restaurant-71.png', 'id': 'e91b21543757e9aa52c7bcf80a9d981c5cdba5cb', 'name': 'The Cinnamon Restaurant', 'place_id': 'ChIJN_ds5FZVUDcRDfyM_ovQ-fU', 'plus_code': {'compound_code': 'WV46+FW Sylhet, Bangladesh', 'global_code': '7MPHWV46+FW'}, 'rating': 0, 'reference': 'ChIJN_ds5FZVUDcRDfyM_ovQ-fU', 'scope': 'GOOGLE', 'types': ['restaurant', 'food', 'point_of_interest', 'establishment'], 'user_ratings_total': 0, 'vicinity': 'Sylhet'}\n",
            "{'business_status': 'OPERATIONAL', 'geometry': {'location': {'lat': 24.9054407, 'lng': 91.8670605}, 'viewport': {'northeast': {'lat': 24.90679552989272, 'lng': 91.86839412989274}, 'southwest': {'lat': 24.90409587010728, 'lng': 91.86569447010729}}}, 'icon': 'https://maps.gstatic.com/mapfiles/place_api/icons/restaurant-71.png', 'id': '368ff289a85bd313ec7cbf2b40c5c492e420cca0', 'name': 'Sinbad Restaurant', 'place_id': 'ChIJE6-_uYZVUDcRApuDHdHZZUo', 'plus_code': {'compound_code': 'WV48+5R Sylhet, Bangladesh', 'global_code': '7MPHWV48+5R'}, 'rating': 5, 'reference': 'ChIJE6-_uYZVUDcRApuDHdHZZUo', 'scope': 'GOOGLE', 'types': ['restaurant', 'food', 'point_of_interest', 'establishment'], 'user_ratings_total': 1, 'vicinity': 'Dorshon Dewri, Sylhet'}\n",
            "{'business_status': 'OPERATIONAL', 'geometry': {'location': {'lat': 24.9015584, 'lng': 91.8919141}, 'viewport': {'northeast': {'lat': 24.90295817989272, 'lng': 91.89289712989272}, 'southwest': {'lat': 24.90025852010728, 'lng': 91.89019747010728}}}, 'icon': 'https://maps.gstatic.com/mapfiles/place_api/icons/restaurant-71.png', 'id': '631f020b272c7e4a10eb9d616163fbc28a1a0b62', 'name': 'Mughal restaurant', 'place_id': 'ChIJC6Y0nYJVUDcRw3JrfH6Pzls', 'plus_code': {'compound_code': 'WV2R+JQ Sylhet, Bangladesh', 'global_code': '7MPHWV2R+JQ'}, 'rating': 0, 'reference': 'ChIJC6Y0nYJVUDcRw3JrfH6Pzls', 'scope': 'GOOGLE', 'types': ['restaurant', 'food', 'point_of_interest', 'establishment'], 'user_ratings_total': 0, 'vicinity': 'point, Sylhet'}\n",
            "{'business_status': 'OPERATIONAL', 'geometry': {'location': {'lat': 24.9114726, 'lng': 91.90321}, 'viewport': {'northeast': {'lat': 24.91282177989272, 'lng': 91.90456302989273}, 'southwest': {'lat': 24.91012212010728, 'lng': 91.90186337010728}}}, 'icon': 'https://maps.gstatic.com/mapfiles/place_api/icons/restaurant-71.png', 'id': 'f8ce5aa8b8368852bf5ee37880ffe2f01cac401d', 'name': 'তাইযুলের টং', 'place_id': 'ChIJjfcXQ0RVUDcRaaJP9WAoFGg', 'plus_code': {'compound_code': 'WW63+H7 Sylhet, Bangladesh', 'global_code': '7MPHWW63+H7'}, 'rating': 0, 'reference': 'ChIJjfcXQ0RVUDcRaaJP9WAoFGg', 'scope': 'GOOGLE', 'types': ['restaurant', 'food', 'point_of_interest', 'establishment'], 'user_ratings_total': 0, 'vicinity': 'Alurtol Road, Sylhet'}\n"
          ],
          "name": "stdout"
        }
      ]
    },
    {
      "cell_type": "code",
      "metadata": {
        "id": "dRROVMqZVsra",
        "colab_type": "code",
        "colab": {}
      },
      "source": [
        "labels = ['Place Name','Place ID', 'Latitude', 'Longitude','Rating', 'Types', 'Vicinity']"
      ],
      "execution_count": 0,
      "outputs": []
    },
    {
      "cell_type": "code",
      "metadata": {
        "id": "wKI842TGGIVO",
        "colab_type": "code",
        "colab": {}
      },
      "source": [
        "export_dataframe_1_medium = pd.DataFrame.from_records(final_data, columns=labels)\n",
        "export_dataframe_1_medium.to_csv('map_data.csv')"
      ],
      "execution_count": 0,
      "outputs": []
    },
    {
      "cell_type": "code",
      "metadata": {
        "id": "ldRirgxwGNYr",
        "colab_type": "code",
        "colab": {}
      },
      "source": [
        ""
      ],
      "execution_count": 0,
      "outputs": []
    }
  ]
}